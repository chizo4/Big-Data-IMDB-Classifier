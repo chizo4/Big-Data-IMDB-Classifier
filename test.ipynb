{
 "cells": [
  {
   "cell_type": "code",
   "execution_count": 33,
   "metadata": {},
   "outputs": [
    {
     "name": "stdout",
     "output_type": "stream",
     "text": [
      "Accuracy: 0.7613293051359517\n"
     ]
    }
   ],
   "source": [
    "import pandas as pd\n",
    "from sklearn.metrics import accuracy_score\n",
    "\n",
    "# Load the original data with true labels\n",
    "train_data = pd.read_csv(\"imdb/train-8.csv\")\n",
    "\n",
    "# TODO: specify current file name:\n",
    "pred_file_path = \"./results/imdb/train-8.csv_gemma3_4b_20250321_022718.txt\"\n",
    "\n",
    "# Load prediction results\n",
    "with open(pred_file_path, \"r\") as f:\n",
    "    predictions_txt = f.readlines()\n",
    "\n",
    "# Process predictions from the text file (True/False)\n",
    "predictions = []\n",
    "for line in predictions_txt:\n",
    "    line = line.strip()\n",
    "    if line.lower() == \"true\":\n",
    "        predictions.append(1)\n",
    "    elif line.lower() == \"false\":\n",
    "        predictions.append(0)\n",
    "\n",
    "# Extract true labels from the train data\n",
    "true_labels = train_data[\"label\"].values\n",
    "\n",
    "# Calculate accuracy\n",
    "accuracy = accuracy_score(true_labels, predictions)\n",
    "print(f\"Accuracy: {accuracy}\")"
   ]
  }
 ],
 "metadata": {
  "kernelspec": {
   "display_name": "base",
   "language": "python",
   "name": "python3"
  },
  "language_info": {
   "codemirror_mode": {
    "name": "ipython",
    "version": 3
   },
   "file_extension": ".py",
   "mimetype": "text/x-python",
   "name": "python",
   "nbconvert_exporter": "python",
   "pygments_lexer": "ipython3",
   "version": "3.12.7"
  }
 },
 "nbformat": 4,
 "nbformat_minor": 2
}
