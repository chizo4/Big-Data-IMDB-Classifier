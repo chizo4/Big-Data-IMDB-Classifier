{
 "cells": [
  {
   "cell_type": "code",
   "execution_count": 1,
   "metadata": {},
   "outputs": [
    {
     "name": "stderr",
     "output_type": "stream",
     "text": [
      "C:\\Users\\EduardCP\\AppData\\Roaming\\Python\\Python310\\site-packages\\scipy\\__init__.py:155: UserWarning: A NumPy version >=1.18.5 and <1.25.0 is required for this version of SciPy (detected version 1.26.4\n",
      "  warnings.warn(f\"A NumPy version >={np_minversion} and <{np_maxversion}\"\n"
     ]
    }
   ],
   "source": [
    "import os\n",
    "from pyspark.sql import SparkSession\n",
    "from pyspark.sql.functions import col, when\n",
    "from pyspark.ml.feature import StringIndexer, VectorAssembler, StandardScaler\n",
    "from pyspark.ml.classification import RandomForestClassifier\n",
    "from pyspark.ml.evaluation import MulticlassClassificationEvaluator\n",
    "from sklearn.model_selection import train_test_split"
   ]
  },
  {
   "cell_type": "code",
   "execution_count": 2,
   "metadata": {},
   "outputs": [
    {
     "name": "stdout",
     "output_type": "stream",
     "text": [
      "Model Accuracy: 0.7238903394255874\n"
     ]
    }
   ],
   "source": [
    "# Initialize Spark Session\n",
    "spark = SparkSession.builder.appName(\"MLBinaryClassifier\").getOrCreate()\n",
    "\n",
    "# Load all train-X.csv files\n",
    "train_files = [f\"../data/train-{i}.csv\" for i in range(1, 9)]\n",
    "df = spark.read.csv(train_files, header=True, inferSchema=True)\n",
    "\n",
    "# Load additional data\n",
    "directing_df = spark.read.json(\"../data/directing.json\")\n",
    "writing_df = spark.read.json(\"../data/writing.json\")\n",
    "\n",
    "# Merge additional information if a common key exists\n",
    "if 'movie' in df.columns:\n",
    "    df = df.join(directing_df, 'movie', 'left')\n",
    "    df = df.join(writing_df, 'movie', 'left')\n",
    "\n",
    "# Handle categorical data\n",
    "categorical_cols = [col_name for col_name, dtype in df.dtypes if dtype == \"string\"]\n",
    "for col_name in categorical_cols:\n",
    "    indexer = StringIndexer(inputCol=col_name, outputCol=f\"{col_name}_index\").setHandleInvalid(\"keep\")\n",
    "    df = indexer.fit(df).transform(df)\n",
    "    df = df.drop(col_name)  # Drop original categorical columns\n",
    "\n",
    "# Convert label column to numeric\n",
    "df = df.withColumn(\"label\", col(\"label\").cast(\"double\"))\n",
    "\n",
    "# Handle missing values\n",
    "df = df.fillna(0)\n",
    "\n",
    "# Define features assembler\n",
    "feature_cols = [col_name for col_name in df.columns if col_name != \"label\"]\n",
    "assembler = VectorAssembler(inputCols=feature_cols, outputCol=\"features\")\n",
    "df = assembler.transform(df)\n",
    "\n",
    "# Standardize numeric features\n",
    "scaler = StandardScaler(inputCol=\"features\", outputCol=\"scaled_features\", withStd=True, withMean=False)\n",
    "scaler_model = scaler.fit(df)\n",
    "df = scaler_model.transform(df)\n",
    "\n",
    "# Split data\n",
    "train_df, val_df = df.randomSplit([0.8, 0.2], seed=42)\n",
    "\n",
    "# Train a model\n",
    "rf = RandomForestClassifier(featuresCol=\"scaled_features\", labelCol=\"label\", numTrees=100, seed=42)\n",
    "model = rf.fit(train_df)\n",
    "\n",
    "# Evaluate the model\n",
    "y_pred = model.transform(val_df)\n",
    "evaluator = MulticlassClassificationEvaluator(labelCol=\"label\", predictionCol=\"prediction\", metricName=\"accuracy\")\n",
    "accuracy = evaluator.evaluate(y_pred)\n",
    "\n",
    "print(\"Model Accuracy:\", accuracy)\n"
   ]
  }
 ],
 "metadata": {
  "kernelspec": {
   "display_name": "Python 3",
   "language": "python",
   "name": "python3"
  },
  "language_info": {
   "codemirror_mode": {
    "name": "ipython",
    "version": 3
   },
   "file_extension": ".py",
   "mimetype": "text/x-python",
   "name": "python",
   "nbconvert_exporter": "python",
   "pygments_lexer": "ipython3",
   "version": "3.10.4"
  }
 },
 "nbformat": 4,
 "nbformat_minor": 2
}
