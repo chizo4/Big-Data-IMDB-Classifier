{
 "cells": [
  {
   "cell_type": "code",
   "execution_count": 24,
   "metadata": {},
   "outputs": [],
   "source": [
    "import os\n",
    "from pyspark.sql import SparkSession\n",
    "from pyspark.sql.functions import col, when\n",
    "from pyspark.ml.feature import StringIndexer, VectorAssembler, StandardScaler\n",
    "from pyspark.ml.classification import RandomForestClassifier\n",
    "from pyspark.ml.evaluation import MulticlassClassificationEvaluator\n",
    "from sklearn.model_selection import train_test_split\n",
    "from sklearn.preprocessing import StandardScaler, LabelEncoder\n",
    "from sklearn.ensemble import RandomForestClassifier\n",
    "from sklearn.metrics import accuracy_score, classification_report"
   ]
  },
  {
   "cell_type": "code",
   "execution_count": 28,
   "metadata": {},
   "outputs": [],
   "source": [
    "# Initialize Spark Session\n",
    "spark = SparkSession.builder.appName(\"MLBinaryClassifier\").getOrCreate()\n",
    "\n",
    "# Load all train-X.csv files\n",
    "train_files = [f\"../data/train-{i}.csv\" for i in range(1, 9)]\n",
    "df = spark.read.csv(train_files, header=True, inferSchema=True)\n",
    "\n",
    "# Load additional data\n",
    "directing_df = spark.read.json(\"../data/directing.json\")\n",
    "writing_df = spark.read.json(\"../data/writing.json\")\n",
    "\n",
    "# Merge additional information if a common key exists\n",
    "if 'movie' in df.columns:\n",
    "    df = df.join(directing_df, 'movie', 'left')\n",
    "    df = df.join(writing_df, 'movie', 'left')\n",
    "\n",
    "# Handle categorical data\n",
    "categorical_cols = [col_name for col_name, dtype in df.dtypes if dtype == \"string\"]\n",
    "for col_name in categorical_cols:\n",
    "    indexer = StringIndexer(inputCol=col_name, outputCol=f\"{col_name}_index\").setHandleInvalid(\"keep\")\n",
    "    df = indexer.fit(df).transform(df)\n",
    "    df = df.drop(col_name)  # Drop original categorical columns\n",
    "\n",
    "# Convert label column to numeric\n",
    "df = df.withColumn(\"label\", col(\"label\").cast(\"double\"))\n",
    "\n",
    "# Handle missing values\n",
    "df = df.fillna(0)\n",
    "\n",
    "# Define features assembler\n",
    "feature_cols = [col_name for col_name in df.columns if col_name != \"label\"]\n",
    "assembler = VectorAssembler(inputCols=feature_cols, outputCol=\"features\")\n",
    "df = assembler.transform(df)\n",
    "\n",
    "# # Standardize numeric features\n",
    "# scaler = StandardScaler()\n",
    "# scaler_model = scaler.fit(df)\n",
    "# df = scaler_model.transform(df)\n",
    "\n",
    "# # Split data\n",
    "# train_df, val_df = df.randomSplit([0.8, 0.2], seed=42)\n",
    "\n",
    "# # Train a model\n",
    "# rf = RandomForestClassifier(featuresCol=\"scaled_features\", labelCol=\"label\", numTrees=100, seed=42)\n",
    "# model = rf.fit(train_df)\n",
    "\n",
    "# # Evaluate the model\n",
    "# y_pred = model.transform(val_df)\n",
    "# evaluator = MulticlassClassificationEvaluator(labelCol=\"label\", predictionCol=\"prediction\", metricName=\"accuracy\")\n",
    "# accuracy = evaluator.evaluate(y_pred)\n",
    "\n",
    "# print(\"Model Accuracy:\", accuracy)\n"
   ]
  },
  {
   "cell_type": "code",
   "execution_count": 29,
   "metadata": {},
   "outputs": [
    {
     "data": {
      "text/plain": [
       "DataFrame[_c0: int, numVotes: double, label: double, tconst_index: double, primaryTitle_index: double, originalTitle_index: double, startYear_index: double, endYear_index: double, runtimeMinutes_index: double, features: vector]"
      ]
     },
     "execution_count": 29,
     "metadata": {},
     "output_type": "execute_result"
    }
   ],
   "source": [
    "df"
   ]
  },
  {
   "cell_type": "code",
   "execution_count": 19,
   "metadata": {},
   "outputs": [
    {
     "data": {
      "application/vnd.microsoft.datawrangler.viewer.v0+json": {
       "columns": [
        {
         "name": "index",
         "rawType": "int64",
         "type": "integer"
        },
        {
         "name": "movie",
         "rawType": "object",
         "type": "string"
        },
        {
         "name": "director",
         "rawType": "object",
         "type": "string"
        }
       ],
       "conversionMethod": "pd.DataFrame",
       "ref": "c46d2bb3-f543-4816-ac82-3c65deb543a8",
       "rows": [
        [
         "0",
         "tt0003740",
         "nm0665163"
        ],
        [
         "1",
         "tt0008663",
         "nm0803705"
        ],
        [
         "2",
         "tt0009369",
         "nm0428059"
        ],
        [
         "3",
         "tt0009369",
         "nm0949648"
        ],
        [
         "4",
         "tt0010307",
         "nm0304098"
        ],
        [
         "5",
         "tt0010600",
         "nm0523932"
        ],
        [
         "6",
         "tt0011439",
         "nm0629243"
        ],
        [
         "7",
         "tt0011607",
         "nm0003433"
        ],
        [
         "8",
         "tt0011841",
         "nm0000428"
        ],
        [
         "9",
         "tt0012349",
         "nm0000122"
        ],
        [
         "10",
         "tt0012494",
         "nm0000485"
        ],
        [
         "11",
         "tt0012532",
         "nm0000428"
        ],
        [
         "12",
         "tt0013257",
         "nm0159725"
        ],
        [
         "13",
         "tt0013556",
         "nm0245385"
        ],
        [
         "14",
         "tt0013933",
         "nm0258477"
        ],
        [
         "15",
         "tt0014109",
         "nm0830249"
        ],
        [
         "16",
         "tt0014142",
         "nm0941637"
        ],
        [
         "17",
         "tt0014341",
         "nm0090007"
        ],
        [
         "18",
         "tt0014341",
         "nm0000036"
        ],
        [
         "19",
         "tt0014358",
         "nm0000122"
        ],
        [
         "20",
         "tt0014429",
         "nm0628345"
        ],
        [
         "21",
         "tt0014429",
         "nm0853130"
        ],
        [
         "22",
         "tt0014538",
         "nm0000036"
        ],
        [
         "23",
         "tt0014538",
         "nm0166836"
        ],
        [
         "24",
         "tt0014611",
         "nm0628345"
        ],
        [
         "25",
         "tt0014611",
         "nm0853130"
        ],
        [
         "26",
         "tt0014945",
         "nm0853130"
        ],
        [
         "27",
         "tt0014945",
         "nm0628345"
        ],
        [
         "28",
         "tt0014972",
         "nm0803705"
        ],
        [
         "29",
         "tt0015016",
         "nm0000406"
        ],
        [
         "30",
         "tt0015064",
         "nm0003638"
        ],
        [
         "31",
         "tt0015163",
         "nm0187981"
        ],
        [
         "32",
         "tt0015163",
         "nm0000036"
        ],
        [
         "33",
         "tt0015174",
         "nm0000485"
        ],
        [
         "34",
         "tt0015175",
         "nm0000485"
        ],
        [
         "35",
         "tt0015214",
         "nm0163229"
        ],
        [
         "36",
         "tt0015224",
         "nm0107543"
        ],
        [
         "37",
         "tt0015361",
         "nm0001178"
        ],
        [
         "38",
         "tt0015400",
         "nm0909825"
        ],
        [
         "39",
         "tt0015841",
         "nm0628345"
        ],
        [
         "40",
         "tt0015841",
         "nm0853130"
        ],
        [
         "41",
         "tt0015842",
         "nm0655065"
        ],
        [
         "42",
         "tt0015863",
         "nm0000036"
        ],
        [
         "43",
         "tt0015864",
         "nm0000122"
        ],
        [
         "44",
         "tt0015881",
         "nm0002233"
        ],
        [
         "45",
         "tt0016029",
         "nm0124877"
        ],
        [
         "46",
         "tt0016220",
         "nm0432216"
        ],
        [
         "47",
         "tt0016220",
         "nm0151606"
        ],
        [
         "48",
         "tt0016220",
         "nm0480677"
        ],
        [
         "49",
         "tt0016220",
         "nm0781292"
        ]
       ],
       "shape": {
        "columns": 2,
        "rows": 11162
       }
      },
      "text/html": [
       "<div>\n",
       "<style scoped>\n",
       "    .dataframe tbody tr th:only-of-type {\n",
       "        vertical-align: middle;\n",
       "    }\n",
       "\n",
       "    .dataframe tbody tr th {\n",
       "        vertical-align: top;\n",
       "    }\n",
       "\n",
       "    .dataframe thead th {\n",
       "        text-align: right;\n",
       "    }\n",
       "</style>\n",
       "<table border=\"1\" class=\"dataframe\">\n",
       "  <thead>\n",
       "    <tr style=\"text-align: right;\">\n",
       "      <th></th>\n",
       "      <th>movie</th>\n",
       "      <th>director</th>\n",
       "    </tr>\n",
       "  </thead>\n",
       "  <tbody>\n",
       "    <tr>\n",
       "      <th>0</th>\n",
       "      <td>tt0003740</td>\n",
       "      <td>nm0665163</td>\n",
       "    </tr>\n",
       "    <tr>\n",
       "      <th>1</th>\n",
       "      <td>tt0008663</td>\n",
       "      <td>nm0803705</td>\n",
       "    </tr>\n",
       "    <tr>\n",
       "      <th>2</th>\n",
       "      <td>tt0009369</td>\n",
       "      <td>nm0428059</td>\n",
       "    </tr>\n",
       "    <tr>\n",
       "      <th>3</th>\n",
       "      <td>tt0009369</td>\n",
       "      <td>nm0949648</td>\n",
       "    </tr>\n",
       "    <tr>\n",
       "      <th>4</th>\n",
       "      <td>tt0010307</td>\n",
       "      <td>nm0304098</td>\n",
       "    </tr>\n",
       "    <tr>\n",
       "      <th>...</th>\n",
       "      <td>...</td>\n",
       "      <td>...</td>\n",
       "    </tr>\n",
       "    <tr>\n",
       "      <th>11157</th>\n",
       "      <td>tt9850344</td>\n",
       "      <td>nm0284774</td>\n",
       "    </tr>\n",
       "    <tr>\n",
       "      <th>11158</th>\n",
       "      <td>tt9850386</td>\n",
       "      <td>nm0550881</td>\n",
       "    </tr>\n",
       "    <tr>\n",
       "      <th>11159</th>\n",
       "      <td>tt9900782</td>\n",
       "      <td>nm7992231</td>\n",
       "    </tr>\n",
       "    <tr>\n",
       "      <th>11160</th>\n",
       "      <td>tt9904802</td>\n",
       "      <td>nm0052054</td>\n",
       "    </tr>\n",
       "    <tr>\n",
       "      <th>11161</th>\n",
       "      <td>tt9911196</td>\n",
       "      <td>nm0631590</td>\n",
       "    </tr>\n",
       "  </tbody>\n",
       "</table>\n",
       "<p>11162 rows × 2 columns</p>\n",
       "</div>"
      ],
      "text/plain": [
       "           movie   director\n",
       "0      tt0003740  nm0665163\n",
       "1      tt0008663  nm0803705\n",
       "2      tt0009369  nm0428059\n",
       "3      tt0009369  nm0949648\n",
       "4      tt0010307  nm0304098\n",
       "...          ...        ...\n",
       "11157  tt9850344  nm0284774\n",
       "11158  tt9850386  nm0550881\n",
       "11159  tt9900782  nm7992231\n",
       "11160  tt9904802  nm0052054\n",
       "11161  tt9911196  nm0631590\n",
       "\n",
       "[11162 rows x 2 columns]"
      ]
     },
     "execution_count": 19,
     "metadata": {},
     "output_type": "execute_result"
    }
   ],
   "source": [
    "directing_df"
   ]
  }
 ],
 "metadata": {
  "kernelspec": {
   "display_name": "Python 3",
   "language": "python",
   "name": "python3"
  },
  "language_info": {
   "codemirror_mode": {
    "name": "ipython",
    "version": 3
   },
   "file_extension": ".py",
   "mimetype": "text/x-python",
   "name": "python",
   "nbconvert_exporter": "python",
   "pygments_lexer": "ipython3",
   "version": "3.10.4"
  }
 },
 "nbformat": 4,
 "nbformat_minor": 2
}
